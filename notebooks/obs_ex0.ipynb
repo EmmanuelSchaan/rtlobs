{
 "cells": [
  {
   "cell_type": "markdown",
   "metadata": {},
   "source": [
    "# Examples:\n",
    "Let's look at some of the most commonly used things this library can do to collect and post-process IQ data from an RTL-SDR."
   ]
  },
  {
   "cell_type": "code",
   "execution_count": 1,
   "metadata": {},
   "outputs": [],
   "source": [
    "from rtlobs import collect as col\n",
    "from rtlobs import post_process as post"
   ]
  },
  {
   "cell_type": "markdown",
   "metadata": {},
   "source": [
    "### Total power\n",
    "We can find the total power incident on the SDR by integrating the complex samples at a certain frequency for an amount of time:"
   ]
  },
  {
   "cell_type": "code",
   "execution_count": 2,
   "metadata": {},
   "outputs": [
    {
     "name": "stdout",
     "output_type": "stream",
     "text": [
      "Initializing rtl-sdr with pyrtlsdr:\n",
      "  sample rate: 2.4 MHz\n",
      "  center frequency 1420.4 MHz\n",
      "  gain: 49.6 dB\n",
      "  num samples per call: 1024\n",
      "  requested integration time: 10s\n",
      "  => num samples to collect: 24000000\n",
      "  => est. num of calls: 23437\n",
      "Integration began at Fri, 28 Feb 2020 19:40:20\n",
      "Integration ended at Fri, 28 Feb 2020 19:40:31 after 11.02284049987793 seconds.\n",
      "23437 calls were made to SDR.\n",
      "23999488 samples were measured at 1420.4 MHz\n",
      "for an effective integration time of 10.00s\n",
      "Uncalibrated total power measurement: 0.0027468171480417446\n"
     ]
    }
   ],
   "source": [
    "# 1024 complex samples per call to the SDR\n",
    "# 49.6 dB of RtlSdr gain\n",
    "# 2.4 MHz sample rate/bandwidth\n",
    "# 1420.6 MHz center frequency\n",
    "# 10 sec integration time\n",
    "p_tot = col.run_total_power_int(1024, 49.6, 2.4e6, 1420.4e6, 10)\n",
    "print('Uncalibrated total power measurement: {}'.format(p_tot))"
   ]
  },
  {
   "cell_type": "markdown",
   "metadata": {},
   "source": [
    "### Total power calibration \n",
    "If p_tot was measured with a telescope pointed at a radio-hot source (e.g. the ground, ~300 Kelvin), and we measure again, this time pointed at a radio-cold source (e.g. empty sky, estimates vary, say ~10 K):"
   ]
  },
  {
   "cell_type": "code",
   "execution_count": 3,
   "metadata": {},
   "outputs": [
    {
     "name": "stdout",
     "output_type": "stream",
     "text": [
      "Initializing rtl-sdr with pyrtlsdr:\n",
      "  sample rate: 2.4 MHz\n",
      "  center frequency 1420.4 MHz\n",
      "  gain: 49.6 dB\n",
      "  num samples per call: 1024\n",
      "  requested integration time: 10s\n",
      "  => num samples to collect: 24000000\n",
      "  => est. num of calls: 23437\n",
      "Integration began at Fri, 28 Feb 2020 19:41:16\n",
      "Integration ended at Fri, 28 Feb 2020 19:41:27 after 11.23639440536499 seconds.\n",
      "23437 calls were made to SDR.\n",
      "23999488 samples were measured at 1420.4 MHz\n",
      "for an effective integration time of 10.00s\n",
      "Uncalibrated total power measurement: 0.00272043848456643\n"
     ]
    }
   ],
   "source": [
    "p_hot = p_tot\n",
    "p_cold = col.run_total_power_int(1024, 49.6, 2.4e6, 1420.4e6, 10)\n",
    "print('Uncalibrated total power measurement: {}'.format(p_cold))"
   ]
  },
  {
   "cell_type": "markdown",
   "metadata": {},
   "source": [
    "We can use these power measurements and assumptions of brightness temperature to perform a \"Y-factor\" calibration of the system temperature, T_sys, as described in [Single-Dish Calibration Techniques at Radio Wavelengths, K. O'Neil, 2002](http://adsabs.harvard.edu/full/2002ASPC..278..293O):"
   ]
  },
  {
   "cell_type": "code",
   "execution_count": 4,
   "metadata": {},
   "outputs": [
    {
     "name": "stdout",
     "output_type": "stream",
     "text": [
      "T_sys estimate for cold load temp 10.00K and hot load temp 300.00K is 29897.78K\n"
     ]
    }
   ],
   "source": [
    "from rtlobs import calibrate as cal\n",
    "t_sys = cal.y_factor_cal(p_hot, p_cold, 300, 10)"
   ]
  },
  {
   "cell_type": "markdown",
   "metadata": {},
   "source": [
    "If your assumptions are wrong (for instance, pointing at the ceiling then a window, instead of ground, then sky), T_sys might not come out what you expect."
   ]
  },
  {
   "cell_type": "markdown",
   "metadata": {},
   "source": [
    "### Spectral lines\n",
    "We can estimate the power spectral density recorded by the SDR for a given bandwidth by averaging multiple spectra over time to reduce the noise:"
   ]
  },
  {
   "cell_type": "code",
   "execution_count": 5,
   "metadata": {},
   "outputs": [
    {
     "name": "stdout",
     "output_type": "stream",
     "text": [
      "Initializing rtl-sdr with pyrtlsdr:\n",
      "  sample rate: 2.320000 MHz\n",
      "  center frequency 1420.000000 MHz\n",
      "  gain: 49 dB\n",
      "  num samples per call: 8192\n",
      "  PSD binning: 2048 bins\n",
      "  requested integration time: 10s\n",
      "  => num samples to collect: 23200000\n",
      "  => est. num of calls: 2832\n",
      "Integration began at Fri, 28 Feb 2020 19:43:54\n"
     ]
    },
    {
     "name": "stderr",
     "output_type": "stream",
     "text": [
      "/usr/lib/python3/dist-packages/scipy/fftpack/basic.py:160: FutureWarning: Using a non-tuple sequence for multidimensional indexing is deprecated; use `arr[tuple(seq)]` instead of `arr[seq]`. In the future this will be interpreted as an array index, `arr[np.array(seq)]`, which will result either in an error or a different result.\n",
      "  z[index] = x\n"
     ]
    },
    {
     "name": "stdout",
     "output_type": "stream",
     "text": [
      "Integration ended at Fri, 28 Feb 2020 19:44:56 after 61.159624338150024 seconds.\n",
      "2832 spectra were measured at 1420000000.0.\n",
      "for an effective integration time of 10.00s\n"
     ]
    },
    {
     "data": {
      "image/png": "[encoded data removed]",
      "text/plain": [
       "<Figure size 432x288 with 1 Axes>"
      ]
     },
     "metadata": {
      "needs_background": "light"
     },
     "output_type": "display_data"
    }
   ],
   "source": [
    "from rtlobs import collect as col\n",
    "from rtlobs import post_process as post\n",
    "# 8192 samples per call to the SDR\n",
    "# 2048 bin resolution power spectral density estimate\n",
    "# 49.6 dB of RtlSdr gain\n",
    "# 2.32 MHz sample rate/bandwidth\n",
    "# 1.420 GHz center frequency\n",
    "# 10 sec integration time\n",
    "f, p = col.run_spectrum_int(8192, 2048, 49.6, 2.32e6, 1.420e9, 10)\n",
    "# Show the figure containing the plotted spectrum\n",
    "fig, ax = post.plot_spectrum(f, p, savefig='../images/spectrum_int.png')"
   ]
  },
  {
   "cell_type": "markdown",
   "metadata": {},
   "source": [
    "And we can even run in frequency-switching mode, periodically retuning the SDR between two frequencies to reduce baseline bandpass shape and increase signal-to-noise on a spectral line!\n",
    "\n",
    "Note that the folding process performed on frequency-switched data happens in terms of the absolute values (power) rather than relative values (dB), so we make those changes to the plot labels."
   ]
  },
  {
   "cell_type": "code",
   "execution_count": 6,
   "metadata": {},
   "outputs": [
    {
     "name": "stdout",
     "output_type": "stream",
     "text": [
      "Initializing rtl-sdr with pyrtlsdr:\n",
      "  sample rate: 2.048000 MHz\n",
      "  center frequency 88.950000 MHz\n",
      "  gain: 49 dB\n",
      "  num samples per call: 8192\n",
      "  requested integration time: 5.0s\n",
      "  => num samples to collect: 10240000\n",
      "  => est. num of calls: 1250\n",
      "  => num samples on each dwell: 409600\n",
      "  => est. num of calls on each dwell: 50\n",
      "  => num dwells total: 25\n",
      "Integration began at Fri, 28 Feb 2020 19:50:07\n",
      "Integration ended at Fri, 28 Feb 2020 19:50:14 after 7.590336799621582 seconds.\n",
      "1250 spectra were measured, split between 88950000.0 and 89250000.0.\n",
      "for an effective integration time of 5.00s\n"
     ]
    },
    {
     "data": {
      "image/png": "[encoded data removed]",
      "text/plain": [
       "<Figure size 432x288 with 1 Axes>"
      ]
     },
     "metadata": {
      "needs_background": "light"
     },
     "output_type": "display_data"
    }
   ],
   "source": [
    "f, p = col.run_fswitch_int(8192, 2048, 49.6, 2.048e6, 88.95e6, 89.25e6, 5.0, fswitch=5)\n",
    "fig, ax = post.plot_spectrum(f, p)\n",
    "# Edit figure labels to be technically correct\n",
    "ax.set_ylabel('Uncalibrated Power Estimate (V$^2$)')\n",
    "ax.set_title('Power Spectrum Estimate')\n",
    "fig.savefig('../images/fswitch_int.png')"
   ]
  },
  {
   "cell_type": "code",
   "execution_count": null,
   "metadata": {},
   "outputs": [],
   "source": []
  }
 ],
 "metadata": {
  "kernelspec": {
   "display_name": "Python 3",
   "language": "python",
   "name": "python3"
  },
  "language_info": {
   "codemirror_mode": {
    "name": "ipython",
    "version": 3
   },
   "file_extension": ".py",
   "mimetype": "text/x-python",
   "name": "python",
   "nbconvert_exporter": "python",
   "pygments_lexer": "ipython3",
   "version": "3.6.9"
  }
 },
 "nbformat": 4,
 "nbformat_minor": 2
}
