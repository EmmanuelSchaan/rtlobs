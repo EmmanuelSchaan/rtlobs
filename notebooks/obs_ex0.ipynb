{
 "cells": [
  {
   "cell_type": "markdown",
   "metadata": {},
   "source": [
    "# Examples:\n",
    "Let's look at some of the most commonly used things this library can do to collect and post-process IQ data from an RTL-SDR."
   ]
  },
  {
   "cell_type": "code",
   "execution_count": null,
   "metadata": {},
   "outputs": [],
   "source": [
    "import numpy as np\n",
    "import time\n",
    "\n",
    "from rtlobs import collect as col\n",
    "from rtlobs import post_process as post\n",
    "from rtlobs import utils as ut\n",
    "\n",
    "%matplotlib widget"
   ]
  },
  {
   "cell_type": "markdown",
   "metadata": {},
   "source": [
    "### Total power\n",
    "We can find the total power incident on the SDR by integrating the complex samples at a certain frequency for an amount of time:"
   ]
  },
  {
   "cell_type": "code",
   "execution_count": null,
   "metadata": {},
   "outputs": [],
   "source": [
    "# 1024 complex samples per call to the SDR\n",
    "# 49.6 dB of RtlSdr gain\n",
    "# 2.4 MHz sample rate/bandwidth\n",
    "# 1420.6 MHz center frequency\n",
    "# 10 sec integration time\n",
    "p_tot = col.run_total_power_int(1024, 49.6, 2.4e6, 1420.4e6, 10)\n",
    "print('Uncalibrated total power measurement: {}'.format(p_tot))"
   ]
  },
  {
   "cell_type": "markdown",
   "metadata": {},
   "source": [
    "### Total power calibration \n",
    "If p_tot was measured with a telescope pointed at a radio-hot source (e.g. the ground, ~300 Kelvin), and we measure again, this time pointed at a radio-cold source (e.g. empty sky, estimates vary, say ~10 K):"
   ]
  },
  {
   "cell_type": "code",
   "execution_count": null,
   "metadata": {},
   "outputs": [],
   "source": [
    "p_hot = p_tot\n",
    "p_cold = col.run_total_power_int(1024, 49.6, 2.4e6, 1420.4e6, 10)\n",
    "print('Uncalibrated total power measurement: {}'.format(p_cold))"
   ]
  },
  {
   "cell_type": "markdown",
   "metadata": {},
   "source": [
    "We can use these power measurements and assumptions of brightness temperature to perform a \"Y-factor\" calibration of the system temperature, T_sys, as described in [Single-Dish Calibration Techniques at Radio Wavelengths, K. O'Neil, 2002](http://adsabs.harvard.edu/full/2002ASPC..278..293O):"
   ]
  },
  {
   "cell_type": "code",
   "execution_count": null,
   "metadata": {},
   "outputs": [],
   "source": [
    "from rtlobs import calibrate as cal\n",
    "t_sys = cal.y_factor_cal(p_hot, p_cold, 300, 10)"
   ]
  },
  {
   "cell_type": "markdown",
   "metadata": {},
   "source": [
    "If your assumptions are wrong (for instance, pointing at the ceiling then a window, instead of ground, then sky), T_sys might not come out what you expect."
   ]
  },
  {
   "cell_type": "markdown",
   "metadata": {},
   "source": [
    "### Spectral lines\n",
    "We can estimate the power spectral density recorded by the SDR for a given bandwidth by averaging multiple spectra over time to reduce the noise:"
   ]
  },
  {
   "cell_type": "code",
   "execution_count": null,
   "metadata": {},
   "outputs": [],
   "source": [
    "# 8192 samples per call to the SDR\n",
    "# 2048 bin resolution power spectral density estimate\n",
    "# 49.6 dB of RtlSdr gain\n",
    "# 2.32 MHz sample rate/bandwidth\n",
    "# 1.420 GHz center frequency\n",
    "# 10 sec integration time\n",
    "ut.biast(1, index=0) # bias tee\n",
    "# f, p = col.run_spectrum_int(131072, 2048, 49.6, 2.32e6, 1.420e9, 10)\n",
    "f, p = col.run_spectrum_int(131072, 2048, 49.6, 2.32e6, 398e6, 10)\n",
    "# Show the figure containing the plotted spectrum\n",
    "fig, ax = post.plot_spectrum(f, p, savefig=None)#'../images/spectrum_int.png')"
   ]
  },
  {
   "cell_type": "markdown",
   "metadata": {},
   "source": [
    "The rtl-sdr library gives us access to GPIO pins on the RTL2832U chip. The RTL-SDRblog v3 dongle breaks them out ot on-board header pins, which we can use to switch a noise source with 3.3V."
   ]
  },
  {
   "cell_type": "code",
   "execution_count": null,
   "metadata": {},
   "outputs": [],
   "source": [
    "# take a spectrum with the noise source turned on.\n",
    "# the active gpio on the RTL-SDRblog v3 dongle should be connected to the\n",
    "# nooelec SAWbird H1+ amp's Vcc pin.\n",
    "ut.biast(1, index=0, gpio=5) # activate header pin 30\n",
    "f_off, p_off = col.run_spectrum_int(131072, 2048, 18, 2.32e6, 398e6, 10)\n",
    "fig, ax = post.plot_spectrum(f_off, p_off)\n",
    "\n",
    "ut.biast(0, index=0, gpio=5)\n",
    "f_on, p_on = col.run_spectrum_int(131072, 2048, 18, 2.32e6, 398e6, 10)\n",
    "fig, ax = post.plot_spectrum(f_on, p_on)\n",
    "fig, ax = post.plot_spectrum(f_on, (10. ** (0.1 * p_on)) - (10. ** (0.1 * p_off)))"
   ]
  },
  {
   "cell_type": "markdown",
   "metadata": {},
   "source": [
    "And we can even run in frequency-switching mode, periodically retuning the SDR between two frequencies to reduce baseline bandpass shape and increase signal-to-noise on a spectral line!\n",
    "\n",
    "Note that the folding process performed on frequency-switched data happens in terms of the absolute values (power) rather than relative values (dB), so we make those changes to the plot labels."
   ]
  },
  {
   "cell_type": "code",
   "execution_count": null,
   "metadata": {},
   "outputs": [],
   "source": [
    "f, p = col.run_fswitch_int(262144, 2048, 49.6, 2.048e6, 399.75e6, 400.25e6, 30., fswitch=1)\n",
    "fig, ax = post.plot_spectrum(f, np.log10(p))\n",
    "# # Edit figure labels to be technically correct\n",
    "ax.set_ylabel('Uncalibrated Power Estimate (V$^2$)')"
   ]
  },
  {
   "cell_type": "markdown",
   "metadata": {},
   "source": [
    "And we can do this a number of times to collect a time series of spectra."
   ]
  },
  {
   "cell_type": "code",
   "execution_count": null,
   "metadata": {},
   "outputs": [],
   "source": [
    "ut.biast(1, index=0, gpio=0)\n",
    "\n",
    "num_pics = 35\n",
    "for i in range(num_pics):\n",
    "    time_str = time.strftime('%a, %d %b %Y %H:%M:%S', time.localtime(time.time()))\n",
    "    print(time_str)\n",
    "    f, p = col.run_fswitch_int(262144, 2048, 49.6, 2.048e6, 1420.3e6, 1420.7e6, 60., fswitch=1)\n",
    "    fig, ax = post.plot_spectrum(f, p)\n",
    "    # ax.set_ylim(-10e-8, 10e-8)\n",
    "    # Edit figure labels to be technically correct\n",
    "    ax.set_ylabel('Uncalibrated Power Estimate (V$^2$)')\n",
    "    ax.set_title(f'Power Spectrum Estimate\\n{time_str}')\n",
    "    fig.savefig(f'../images/fswitch_int_{time_str}.png')\n",
    "    np.save(f'./output/fswitch_int_freqs_powers_{time_str}.npy', np.array([f, p]))\n",
    "    fig.show()\n",
    "\n",
    "ut.biast(0, index=0, gpio=0)"
   ]
  },
  {
   "cell_type": "code",
   "execution_count": null,
   "metadata": {},
   "outputs": [],
   "source": [
    "ut.biast(0, index=0, gpio=0)"
   ]
  },
  {
   "cell_type": "code",
   "execution_count": null,
   "metadata": {},
   "outputs": [],
   "source": [
    "ut.biast(1, index=0, gpio=0)"
   ]
  },
  {
   "cell_type": "code",
   "execution_count": null,
   "metadata": {},
   "outputs": [],
   "source": []
  }
 ],
 "metadata": {
  "kernelspec": {
   "display_name": "Python 3.9.6 ('astr')",
   "language": "python",
   "name": "python3"
  },
  "language_info": {
   "codemirror_mode": {
    "name": "ipython",
    "version": 3
   },
   "file_extension": ".py",
   "mimetype": "text/x-python",
   "name": "python",
   "nbconvert_exporter": "python",
   "pygments_lexer": "ipython3",
   "version": "3.9.6"
  },
  "vscode": {
   "interpreter": {
    "hash": "3f7d6449d6e38d9464716f7867ca49d547230cad11817e08e660ed63d0553b3c"
   }
  }
 },
 "nbformat": 4,
 "nbformat_minor": 2
}
